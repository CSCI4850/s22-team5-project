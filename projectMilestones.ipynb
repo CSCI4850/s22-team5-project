{
 "cells": [
  {
   "cell_type": "markdown",
   "id": "207c33b8-595b-4835-8dd8-1b259aac9962",
   "metadata": {
    "tags": []
   },
   "source": [
    "# Project Milestones\n",
    "\n",
    "### Week of March 14th\n",
    "| **Deliverable** | **Percent Complete** | **Estimated Completion Date** | **Percent Complete by next milestone** |\n",
    "|-----------------|----------------------|-------------------------------|----------------------------------------|\n",
    "| Code            | 0%                   | April 25th                    | 10%                                    |\n",
    "| Demo            | 0%                   | May 1st                       | 0%                                     |\n",
    "| Presentation    | 0%                   | May 2nd                       | 0%                                     |\n",
    "\n",
    "1. N/A\n",
    "2. N/A\n",
    "3. **All:** Read [\"Curiosity-driven Exploration by Self-supervised Prediction\" Paper](http://proceedings.mlr.press/v70/pathak17a/pathak17a.pdf) <br>\n",
    "    **Sam:** Get the base ai set up in the repo<br>\n",
    "    **Nicholas:** Experiment with running doom, and try to get testing environments set up<br>\n",
    "    **Sean:** Experiment with the code from the [no reward repo](https://github.com/pathak22/noreward-rl)<br>\n",
    "    **Josh:** Experiment with running Mario, and try to get testing environments set up<br>"
   ]
  },
  {
   "cell_type": "code",
   "execution_count": null,
   "id": "476025eb-35a9-4143-a58a-b69474f0cc2e",
   "metadata": {},
   "outputs": [],
   "source": []
  }
 ],
 "metadata": {
  "kernelspec": {
   "display_name": "Python 3 (ipykernel)",
   "language": "python",
   "name": "python3"
  },
  "language_info": {
   "codemirror_mode": {
    "name": "ipython",
    "version": 3
   },
   "file_extension": ".py",
   "mimetype": "text/x-python",
   "name": "python",
   "nbconvert_exporter": "python",
   "pygments_lexer": "ipython3",
   "version": "3.9.7"
  }
 },
 "nbformat": 4,
 "nbformat_minor": 5
}
