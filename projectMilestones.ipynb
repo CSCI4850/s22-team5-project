{
 "cells": [
  {
   "cell_type": "markdown",
   "id": "207c33b8-595b-4835-8dd8-1b259aac9962",
   "metadata": {
    "tags": []
   },
   "source": [
    "# Project Milestones\n",
    "\n",
    "### Week of March 14th\n",
    "| **Deliverable** | **Percent Complete** | **Estimated Completion Date** | **Percent Complete by next milestone** |\n",
    "|-----------------|----------------------|-------------------------------|----------------------------------------|\n",
    "| Code            | 0%                   | April 25th                    | 10%                                    |\n",
    "| Demo            | 0%                   | May 1st                       | 0%                                     |\n",
    "| Presentation    | 0%                   | May 2nd                       | 0%                                     |\n",
    "\n",
    "1. N/A\n",
    "2. N/A\n",
    "3. **All:** Read [\"Curiosity-driven Exploration by Self-supervised Prediction\" Paper](http://proceedings.mlr.press/v70/pathak17a/pathak17a.pdf) <br>\n",
    "    **Sam:** Get the base ai set up in the repo<br>\n",
    "    **Nicholas:** Experiment with running doom, and try to get testing environments set up<br>\n",
    "    **Sean:** Experiment with the code from the [no reward repo](https://github.com/pathak22/noreward-rl)<br>\n",
    "    **Josh:** Experiment with running Mario, and try to get testing environments set up<br>\n",
    "    "
   ]
  },
  {
   "cell_type": "markdown",
   "id": "a9586a79-35c4-42bc-bbcd-118f93df6d88",
   "metadata": {},
   "source": [
    "### Week of March 21st\n",
    "| **Deliverable** | **Percent Complete** | **Estimated Completion Date** | **Percent Complete by next milestone** |\n",
    "|-----------------|----------------------|-------------------------------|----------------------------------------|\n",
    "| Code            | 10%                   | April 25th                    | 20%                                    |\n",
    "| Demo            | 0%                   | May 1st                       | 0%                                     |\n",
    "| Presentation    | 0%                   | May 2nd                       | 0%                                     |\n",
    "\n",
    "1. We have the gym setup with stable baselines training.\n",
    "2. Getting the ICM up and running is proving to be more difficult then expected.\n",
    "3. **All:** Get the doom bot to complete one of the standard challenges <br>\n",
    "    **Sam:** Get the ICM working<br>\n",
    "    **Nicholas:** learn how to make custom environments for the gym<br>\n",
    "    **Sean:** Experiment with the code from the [no reward repo](https://github.com/pathak22/noreward-rl)<br>\n",
    "    **Josh:** Experiment with running Mario, and try to get testing environments set up<br>"
   ]
  },
  {
   "cell_type": "markdown",
   "id": "071d85a9-3838-4cf5-951d-b8408629e46a",
   "metadata": {},
   "source": [
    "### Week of March 28th\n",
    "| **Deliverable** | **Percent Complete** | **Estimated Completion Date** | **Percent Complete by next milestone** |\n",
    "|-----------------|----------------------|-------------------------------|----------------------------------------|\n",
    "| Code            | 25%                   | April 25th                    | 40%                                    |\n",
    "| Demo            | 0%                   | May 1st                       | 0%                                     |\n",
    "| Presentation    | 0%                   | May 2nd                       | 0%                                     |\n",
    "\n",
    "1. We have the gym setup with stable baselines training.\n",
    "2. Getting the ICM up and running is proving to be more difficult then expected.\n",
    "3. Autoencoder has been made and applied to doom environments.\n",
    "\n",
    "Mario runs, but isn't quite ready for training yet.\n",
    "4. **All:** Get the doom bot to complete one of the standard challenges <br>\n",
    "    **Sam:** Get the ICM working<br>\n",
    "    **Nicholas:** Make more custom doom environments for the gym<br>\n",
    "    **Sean:** Continue experimentation with the code from the [no reward repo](https://github.com/pathak22/noreward-rl)<br>\n",
    "    **Josh:** Try to get Mario testing environment set up<br>"
   ]
  },
  {
   "cell_type": "markdown",
   "id": "d5188397-ccd4-44ef-a8d6-36ef9d651897",
   "metadata": {},
   "source": [
    "### Week of April 4th\n",
    "| **Deliverable** | **Percent Complete** | **Estimated Completion Date** | **Percent Complete by next milestone** |\n",
    "|-----------------|----------------------|-------------------------------|----------------------------------------|\n",
    "| Code            | 40%                   | April 25th                    | 55%                                    |\n",
    "| Demo            | 0%                   | May 1st                       | 0%                                     |\n",
    "| Presentation    | 0%                   | May 2nd                       | 0%                                     |\n",
    "\n",
    "1. We have the gym setup with stable baselines training.\n",
    "2. Getting the ICM up and running is proving to be more difficult then expected.\n",
    "3. Autoencoder has been made and applied to doom environments.\n",
    "4. Considering writing a custom reinforcement learning to work better with the autoencoder\n",
    "5. Geometry for some custom levels have been complete\n",
    "Mario runs, but isn't quite ready for training yet.\n",
    "4. **All:** Get the doom bot to complete one of the standard challenges <br>\n",
    "    **Sam:** Get the ICM working<br>\n",
    "    **Nicholas:** Make more custom doom environments for the gym <br>\n",
    "    **Sean:** Write custom reinforcement algorithm for autoencoder<br>\n",
    "    **Josh:** Try to get Mario testing environment set up<br>"
   ]
  },
  {
   "cell_type": "code",
   "execution_count": null,
   "id": "8f4741b0-2e1a-4a40-b43b-9d38ce53d809",
   "metadata": {},
   "outputs": [],
   "source": []
  }
 ],
 "metadata": {
  "kernelspec": {
   "display_name": "Python 3 (ipykernel)",
   "language": "python",
   "name": "python3"
  },
  "language_info": {
   "codemirror_mode": {
    "name": "ipython",
    "version": 3
   },
   "file_extension": ".py",
   "mimetype": "text/x-python",
   "name": "python",
   "nbconvert_exporter": "python",
   "pygments_lexer": "ipython3",
   "version": "3.9.7"
  }
 },
 "nbformat": 4,
 "nbformat_minor": 5
}
