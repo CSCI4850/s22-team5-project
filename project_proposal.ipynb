{
 "cells": [
  {
   "cell_type": "markdown",
   "id": "eae326cb-d4d2-4520-850b-c33620787f47",
   "metadata": {},
   "source": [
    "Pandemonium"
   ]
  },
  {
   "cell_type": "markdown",
   "id": "ba9aa18b-201e-4bbf-9ed7-24a502871598",
   "metadata": {},
   "source": [
    "Sean Gately,\n",
    "Samuel Shade Thomas,\n",
    "Nicholas MacRae Hodge,\n",
    "Joshua Cox"
   ]
  },
  {
   "cell_type": "markdown",
   "id": "5ea38b96-a88c-4d3d-a529-d24806a5e05b",
   "metadata": {},
   "source": [
    "Project Proposal"
   ]
  },
  {
   "cell_type": "markdown",
   "id": "2f176120-f492-44ec-9a26-60cda0243dde",
   "metadata": {},
   "source": [
    "\tThe use of neural networks in games is a frequently explored topic in computer science. OpenAI, for example, has a well-built tool called gym for testing the efficacy of a neural network  The reason for this is clear: the real world poses issues that are often too complex for a network to solve even with plentiful resources. Game space, relatively speaking, is simple and tractable, and thus ideal for a network to learn quickly and effectively. With this in consideration, our team aims to construct a neural network that can adequately play Doom, and perhaps other games as well."
   ]
  },
  {
   "cell_type": "markdown",
   "id": "e81b9971-2124-4906-a4ec-1f4435624624",
   "metadata": {},
   "source": [
    "\tAs there are several continuous elements in the space of Doom(Movement, aiming, etc...), our team has considered employing either separate code(not necessarily a neural network or even artificial intelligence) or a pre-made “canned solution” to handle more heavyweight elements of Doom and other games. The neural network thus will handle recognizing smaller, more discrete features such as enemies, hazards, rewards, etc..., to decide on an appropriate action to maximize a reward function. Research into appropriate canned solutions, relevant architectures, and reward functions is ongoing in our team."
   ]
  },
  {
   "cell_type": "markdown",
   "id": "7d4f4cc2-725a-4108-87fc-b11f32d011c3",
   "metadata": {},
   "source": [
    "\tThe practical thing about our goal is that games generally have a built-in metric for success or failure that we can easily use for testing our network. Failure in Doom, for example, simply means the death of the player. It's important to note, however, that success can be much less straightforward than failure. We could define success as completing a level, of course, but there are variables along the way: how many deaths before success is attained, powerups, optimal paths, and others. Different games, of course, have different considerations in regard to success, which brings into question how a reward function may be utilized in a general sense, or even the feasibility of a general reward function. Such restrictions could shape our goals as we go along, although coming up with a solution to them is still not out of the question."
   ]
  },
  {
   "cell_type": "markdown",
   "id": "19b5dfe7-1247-4537-9885-a685d040fae0",
   "metadata": {},
   "source": [
    "\tWe anticipate that much of our time will be spent researching similar networks to draw inspiration from, technologies or canned solutions to utilize and deliberating what features we can add to them using a neural network to achieve our goal. Samuel Thomas has, so far, done the bulk of research into pre-existing technologies as well as proposing the initial idea, with the rest of the team doing their own research to temper it. At the moment it appears that all members will be conducting research equally from here on out, with the actual construction of the resulting network falling equally onto the team as well. The team has set up specific, routine times during the week to meet up and coordinate efforts to ensure the consistency of our progress."
   ]
  },
  {
   "cell_type": "code",
   "execution_count": null,
   "id": "6e0153c4-2cff-4c96-82b3-305e37c20b68",
   "metadata": {},
   "outputs": [],
   "source": []
  }
 ],
 "metadata": {
  "kernelspec": {
   "display_name": "Python 3 (ipykernel)",
   "language": "python",
   "name": "python3"
  },
  "language_info": {
   "codemirror_mode": {
    "name": "ipython",
    "version": 3
   },
   "file_extension": ".py",
   "mimetype": "text/x-python",
   "name": "python",
   "nbconvert_exporter": "python",
   "pygments_lexer": "ipython3",
   "version": "3.9.7"
  }
 },
 "nbformat": 4,
 "nbformat_minor": 5
}
