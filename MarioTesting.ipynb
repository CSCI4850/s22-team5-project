{
 "cells": [
  {
   "cell_type": "markdown",
   "id": "f227cd5c-eef6-4585-ac1a-570671aecffd",
   "metadata": {},
   "source": [
    "# Mario Stuff"
   ]
  },
  {
   "cell_type": "code",
   "execution_count": null,
   "id": "fd9863b4-e5ba-4d31-a863-c43c498b475b",
   "metadata": {},
   "outputs": [],
   "source": [
    "!pip install gym_super_mario_bros==7.3.0 nes_py"
   ]
  },
  {
   "cell_type": "code",
   "execution_count": null,
   "id": "62dd8c2f-21dd-4524-862a-4fa4e5cedf3e",
   "metadata": {},
   "outputs": [],
   "source": [
    "# Import the game\n",
    "import gym_super_mario_bros\n",
    "\n",
    "# Import joypad wrapper\n",
    "from nes_py.wrappers import JoypadSpace\n",
    "\n",
    "# Import the simplified controls\n",
    "from gym_super_mario_bros.actions import SIMPLE_MOVEMENT"
   ]
  },
  {
   "cell_type": "code",
   "execution_count": null,
   "id": "6fe790d0-70b7-4957-9773-ab27b9e53bcc",
   "metadata": {},
   "outputs": [],
   "source": [
    "# Setup\n",
    "env = gym_super_mario_bros.make('SuperMarioBros-v0')\n",
    "\n",
    "# Simplify the controls from 256 different possible \n",
    "# movement combinations to just 7!\n",
    "env = JoypadSpace(env, SIMPLE_MOVEMENT)"
   ]
  },
  {
   "cell_type": "code",
   "execution_count": null,
   "id": "497e8541-6493-4fdc-83b1-84a77d140f95",
   "metadata": {},
   "outputs": [],
   "source": [
    "# 240px, 256px, 3 color channels\n",
    "env.observation_space.shape"
   ]
  },
  {
   "cell_type": "code",
   "execution_count": null,
   "id": "087b3d93-0032-467c-b852-2ba6d5495274",
   "metadata": {
    "tags": []
   },
   "outputs": [],
   "source": [
    "# flag - Restart or naw?\n",
    "done = True\n",
    "\n",
    "# each 'step' represents 1 frame\n",
    "for step in range(100000):\n",
    "    if done:\n",
    "        env.reset() # Start the game\n",
    "    # env.action_space.sample() chooses a random action\n",
    "    state, reward, done, info, = env.step(env.action_space.sample())\n",
    "    # Show the game on screen\n",
    "    env.render()\n",
    "# Close the game\n",
    "env.close()"
   ]
  },
  {
   "cell_type": "markdown",
   "id": "6ceba8ac-8581-4531-b313-fe5aecef017a",
   "metadata": {},
   "source": [
    "## Preprocess the Environment"
   ]
  },
  {
   "cell_type": "code",
   "execution_count": null,
   "id": "a1a97fff-73df-479b-a564-754d86de2f5c",
   "metadata": {},
   "outputs": [],
   "source": []
  },
  {
   "cell_type": "code",
   "execution_count": null,
   "id": "d7b552d0-6946-4a98-b523-5a8449768630",
   "metadata": {},
   "outputs": [],
   "source": []
  }
 ],
 "metadata": {
  "kernelspec": {
   "display_name": "Python 3 (ipykernel)",
   "language": "python",
   "name": "python3"
  },
  "language_info": {
   "codemirror_mode": {
    "name": "ipython",
    "version": 3
   },
   "file_extension": ".py",
   "mimetype": "text/x-python",
   "name": "python",
   "nbconvert_exporter": "python",
   "pygments_lexer": "ipython3",
   "version": "3.9.7"
  }
 },
 "nbformat": 4,
 "nbformat_minor": 5
}
